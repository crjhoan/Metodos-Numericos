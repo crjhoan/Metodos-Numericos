{
 "cells": [
  {
   "cell_type": "code",
   "execution_count": 32,
   "metadata": {
    "collapsed": false
   },
   "outputs": [
    {
     "name": "stdout",
     "output_type": "stream",
     "text": [
      "Media: 20.4\n",
      "Divison Estandar: 1.39170474788\n"
     ]
    }
   ],
   "source": [
    "import math\n",
    "n=20\n",
    "valores=[19,19,23,21,21,21,19,18,20,22,22,21,19,19,20,20,20,21,20,23]\n",
    "j=0;\n",
    "suma=0.0;\n",
    "while(j<n):\n",
    "    suma+=valores[j]\n",
    "    j+=1\n",
    "    \n",
    "media=suma/n    \n",
    "print 'Media: '+str(media)\n",
    "\n",
    "st=0\n",
    "i=0\n",
    "while(i<n):\n",
    "    resta=((valores[i]-media)**2)\n",
    "    st+=resta\n",
    "    i+=1\n",
    "    \n",
    "estandar=math.sqrt((st)/(n-1))   \n",
    "    \n",
    "print \"Divison Estandar: \"+str(estandar)    \n",
    "    "
   ]
  },
  {
   "cell_type": "code",
   "execution_count": null,
   "metadata": {
    "collapsed": true
   },
   "outputs": [],
   "source": []
  }
 ],
 "metadata": {
  "kernelspec": {
   "display_name": "Python 2",
   "language": "python",
   "name": "python2"
  },
  "language_info": {
   "codemirror_mode": {
    "name": "ipython",
    "version": 2
   },
   "file_extension": ".py",
   "mimetype": "text/x-python",
   "name": "python",
   "nbconvert_exporter": "python",
   "pygments_lexer": "ipython2",
   "version": "2.7.10"
  }
 },
 "nbformat": 4,
 "nbformat_minor": 0
}
