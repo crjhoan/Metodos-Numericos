{
 "cells": [
  {
   "cell_type": "code",
   "execution_count": 3,
   "metadata": {
    "collapsed": false
   },
   "outputs": [
    {
     "name": "stdout",
     "output_type": "stream",
     "text": [
      "Indique hasta que tope desea calcular\n",
      "10\n",
      "|-----|----------------|----------------|----------|\n",
      "|Val  |S.ANA           |S.APR           |ERROR.rel |\n",
      "|-----|----------------|----------------|----------|\n",
      "|0    |1.2000          |1.2000          |0.0000    |\n",
      "|-----|----------------|----------------|----------|\n",
      "|1    |0.2000          |0.2000          |0.0000    |\n",
      "|-----|----------------|----------------|----------|\n",
      "|2    |-4.1000         |-4.1000         |0.0000    |\n",
      "|-----|----------------|----------------|----------|\n",
      "|3    |-16.2000        |-16.2000        |0.0000    |\n",
      "|-----|----------------|----------------|----------|\n",
      "|4    |-43.0000        |-43.0000        |0.0000    |\n",
      "|-----|----------------|----------------|----------|\n",
      "|5    |-93.8000        |-93.8000        |0.0000    |\n",
      "|-----|----------------|----------------|----------|\n",
      "|6    |-180.3000       |-180.3000       |0.0000    |\n",
      "|-----|----------------|----------------|----------|\n",
      "|7    |-316.6000       |-316.6000       |0.0000    |\n",
      "|-----|----------------|----------------|----------|\n",
      "|8    |-519.2000       |-519.2000       |0.0000    |\n",
      "|-----|----------------|----------------|----------|\n",
      "|9    |-807.0000       |-807.0000       |0.0000    |\n",
      "|-----|----------------|----------------|----------|\n",
      "|10   |-1201.3000      |-1201.3000      |0.0000    |\n",
      "|-----|----------------|----------------|----------|\n"
     ]
    },
    {
     "data": {
      "text/plain": [
       "0"
      ]
     },
     "execution_count": 3,
     "metadata": {},
     "output_type": "execute_result"
    }
   ],
   "source": [
    "import math\n",
    "h=1 \n",
    "\n",
    "def fder(x,orden):\n",
    "    if(orden==1):\n",
    "        return (-0.4*(x**3))+(-0.45*(x**2))+(-1*(x))+(-0.25)\n",
    "    elif(orden==2):\n",
    "        return (-1.2*(x**2))+(-0.90*(x))+(-1)\n",
    "    elif(orden==3):\n",
    "        return (-2.4*(x))+(-0.90)\n",
    "    elif(orden==4):\n",
    "        return (-2.4)\n",
    "    \n",
    "    \n",
    "def f(x):\n",
    "    return (-0.1*(x**4))+(-0.15*(x**3))+(-0.5*(x**2))+(-0.25*x)+(1.2)\n",
    "        \n",
    "\n",
    "def faprox(x,orden):\n",
    "    xaux=h\n",
    "    funcion=float(1.2)\n",
    "    cont=1\n",
    "    conta=1\n",
    "    print \"|%-5s|%-16s|%-16s|%-10s|\"%('-----','----------------','----------------','----------')\n",
    "    print \"|%-5s|%-16s|%-16s|%-10s|\"%('Val','S.ANA','S.APR','ERROR.rel')\n",
    "    print \"|%-5s|%-16s|%-16s|%-10s|\"%('-----','----------------','----------------','----------')\n",
    "    if(x==0):\n",
    "        funcion=float(1.2)\n",
    "    elif(x>0):\n",
    "        while xaux<=x+h:\n",
    "            er=abs((((f(xaux-h))-(funcion))/(f(xaux-h)))*100)\n",
    "            #er=Error relativo\n",
    "            print \"|%-5.0f|%-16.4f|%-16.4f|%-10.4f|\"%((xaux-h),f(xaux-h),funcion,er)\n",
    "            print \"|%-5s|%-16s|%-16s|%-10s|\"%('-----','----------------','----------------','----------')\n",
    "            while conta<=orden:\n",
    "                funcion+=((fder(xaux-h,conta)*(h**conta))/(math.factorial(conta)))\n",
    "                conta+=1  \n",
    "            xaux+=h  \n",
    "            conta=1\n",
    "        \n",
    "    return 0\n",
    "\n",
    "print \"Indique hasta que tope desea calcular\"\n",
    "faprox(input(),4)\n"
   ]
  },
  {
   "cell_type": "code",
   "execution_count": null,
   "metadata": {
    "collapsed": true
   },
   "outputs": [],
   "source": []
  }
 ],
 "metadata": {
  "kernelspec": {
   "display_name": "Python 2",
   "language": "python",
   "name": "python2"
  },
  "language_info": {
   "codemirror_mode": {
    "name": "ipython",
    "version": 2
   },
   "file_extension": ".py",
   "mimetype": "text/x-python",
   "name": "python",
   "nbconvert_exporter": "python",
   "pygments_lexer": "ipython2",
   "version": "2.7.10"
  }
 },
 "nbformat": 4,
 "nbformat_minor": 0
}
