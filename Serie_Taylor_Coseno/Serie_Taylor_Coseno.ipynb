{
 "cells": [
  {
   "cell_type": "code",
   "execution_count": 1,
   "metadata": {
    "collapsed": false
   },
   "outputs": [
    {
     "name": "stdout",
     "output_type": "stream",
     "text": [
      "Cuantos valores de coseno desea evaluar desde  π/4 en intervalos de  π/12\n",
      "10\n",
      "|---------------|---------------|---------------|---------------|\n",
      "|Val            |S.ANA          |S.APR          |ERROR.rel      |\n",
      "|---------------|---------------|---------------|---------------|\n",
      "|0.7853981634   |0.7071067812   |0.7071067812   |0.0000000000   |\n",
      "|---------------|-------------- |---------------|---------------|\n",
      "|1.0471975512   |0.5000000000   |0.4999999878   |0.0000024403   |\n",
      "|---------------|-------------- |---------------|---------------|\n",
      "|1.3089969390   |0.2588190451   |0.2588190182   |0.0000104107   |\n",
      "|---------------|-------------- |---------------|---------------|\n",
      "|1.5707963268   |0.0000000000   |-0.0000000432  |15259078800.6808242798|\n",
      "|---------------|-------------- |---------------|---------------|\n",
      "|1.8325957146   |-0.2588190451  |-0.2588191050  |0.0000231567   |\n",
      "|---------------|-------------- |---------------|---------------|\n",
      "|2.0943951024   |-0.5000000000  |-0.5000000759  |0.0000151863   |\n",
      "|---------------|-------------- |---------------|---------------|\n",
      "|2.3561944902   |-0.7071067812  |-0.7071068713  |0.0000127460   |\n",
      "|---------------|-------------- |---------------|---------------|\n",
      "|2.6179938780   |-0.8660254038  |-0.8660255053  |0.0000117267   |\n",
      "|---------------|-------------- |---------------|---------------|\n",
      "|2.8797932658   |-0.9659258263  |-0.9659259357  |0.0000113297   |\n",
      "|---------------|-------------- |---------------|---------------|\n"
     ]
    }
   ],
   "source": [
    "import math\n",
    "\n",
    "h=math.pi/12\n",
    "\n",
    "cs1=1\n",
    "cc1=1\n",
    "\n",
    "def fder(x,orden):\n",
    "    global cs1\n",
    "    global cc1\n",
    "    if((orden%2)!=0):\n",
    "        if((cs1%2)!=0):\n",
    "            cs1+=1\n",
    "            return -(math.sin(x))\n",
    "        elif((cs1%2)==0):\n",
    "            cs1+=1\n",
    "            return (math.sin(x))\n",
    "    elif((orden%2)==0):\n",
    "        if((cc1%2)!=0):\n",
    "            cc1+=1\n",
    "            return -(math.cos(x))\n",
    "        elif((cc1%2)==0):\n",
    "            cc1+=1\n",
    "            return (math.cos(x))\n",
    "    \n",
    "def f(x):\n",
    "    return (math.cos(x))\n",
    "\n",
    "def faprox(x,orden):\n",
    "    global cs1\n",
    "    global cc1\n",
    "    funcion=f(math.pi/4)\n",
    "    conta=1\n",
    "    xaux=(math.pi/4)+h\n",
    "    print \"|%-15s|%-15s|%-15s|%-15s|\"%('---------------','---------------','---------------','---------------')\n",
    "    print \"|%-15s|%-15s|%-15s|%-15s|\"%('Val','S.ANA','S.APR','ERROR.rel')\n",
    "    print \"|%-15s|%-15s|%-15s|%-15s|\"%('---------------','---------------','---------------','---------------')\n",
    "    if(x==(math.pi/4)):\n",
    "        funcion=f(math.pi/4)\n",
    "    elif(x>(math.pi/4)):\n",
    "        while xaux<=x+h:\n",
    "            er=abs((((f(xaux-h))-(funcion))/(f(xaux-h)))*100)#Error relativo\n",
    "            #tiene 10 cifras decimales, para que sea mas notoria la diferencia entre la real y la aproximada\n",
    "            print \"|%-15.10f|%-15.10f|%-15.10f|%-15.10f|\"%((xaux-h),(f(xaux-h)),(funcion),er)\n",
    "            print \"|%-15s|%-15s|%-15s|%-15s|\"%('---------------','--------------','---------------','---------------')\n",
    "            while conta<=orden:\n",
    "                funcion+=((fder(xaux-h,conta)*(h**conta))/(math.factorial(conta)))\n",
    "                conta+=1\n",
    "            cs1=1\n",
    "            cc1=1\n",
    "            xaux+=h\n",
    "            conta=1\n",
    "\n",
    "print \"Cuantos valores de coseno desea evaluar desde  π/4 en intervalos de  π/12\"\n",
    "faprox((input()+2)*math.pi/12,6)\n"
   ]
  },
  {
   "cell_type": "code",
   "execution_count": null,
   "metadata": {
    "collapsed": true
   },
   "outputs": [],
   "source": []
  }
 ],
 "metadata": {
  "kernelspec": {
   "display_name": "Python 2",
   "language": "python",
   "name": "python2"
  },
  "language_info": {
   "codemirror_mode": {
    "name": "ipython",
    "version": 2
   },
   "file_extension": ".py",
   "mimetype": "text/x-python",
   "name": "python",
   "nbconvert_exporter": "python",
   "pygments_lexer": "ipython2",
   "version": "2.7.10"
  }
 },
 "nbformat": 4,
 "nbformat_minor": 0
}
