{
 "cells": [
  {
   "cell_type": "code",
   "execution_count": 2,
   "metadata": {
    "collapsed": false
   },
   "outputs": [
    {
     "name": "stdout",
     "output_type": "stream",
     "text": [
      "Funcion 1 (3+x^2)/2\n",
      "|----|---------------|---------------|---------------|\n",
      "|i   |Xi             |Xi+1           |Error Aprox    |\n",
      "|----|---------------|---------------|---------------|\n",
      "|0   |0.000000e+00   |1.500000e+00   |100.000        |\n",
      "|----|---------------|---------------|---------------|\n",
      "|1   |1.500000e+00   |2.625000e+00   |42.857         |\n",
      "|----|---------------|---------------|---------------|\n",
      "|2   |2.625000e+00   |4.945312e+00   |46.919         |\n",
      "|----|---------------|---------------|---------------|\n",
      "|3   |4.945312e+00   |1.372806e+01   |63.977         |\n",
      "|----|---------------|---------------|---------------|\n",
      "|4   |1.372806e+01   |9.572979e+01   |85.660         |\n",
      "|----|---------------|---------------|---------------|\n",
      "|5   |9.572979e+01   |4.583596e+03   |97.911         |\n",
      "|----|---------------|---------------|---------------|\n",
      "|6   |4.583596e+03   |1.050468e+07   |99.956         |\n",
      "|----|---------------|---------------|---------------|\n",
      "|7   |1.050468e+07   |5.517413e+13   |100.000        |\n",
      "|----|---------------|---------------|---------------|\n",
      "|8   |5.517413e+13   |1.522092e+27   |100.000        |\n",
      "|----|---------------|---------------|---------------|\n",
      "|9   |1.522092e+27   |1.158382e+54   |100.000        |\n",
      "|----|---------------|---------------|---------------|\n",
      "|10  |1.158382e+54   |6.709246e+107  |100.000        |\n",
      "|----|---------------|---------------|---------------|\n"
     ]
    },
    {
     "data": {
      "image/png": "[encoded data removed]",
      "text/plain": [
       "<matplotlib.figure.Figure at 0x36bbdd8>"
      ]
     },
     "metadata": {},
     "output_type": "display_data"
    },
    {
     "name": "stdout",
     "output_type": "stream",
     "text": [
      "Funcion 2  e^–x – x\n",
      "|----|---------------|---------------|---------------|---------------|\n",
      "|i   |Xi             |Xi+1           |Error AproxṔor |Error RelPor   |\n",
      "|----|---------------|---------------|---------------|---------------|\n",
      "|0   |0.000000       |1.000000       |0.00000        |100.00000      |\n",
      "|----|---------------|---------------|---------------|---------------|\n",
      "|1   |1.000000       |0.367879       |100.00000      |76.32228       |\n",
      "|----|---------------|---------------|---------------|---------------|\n",
      "|2   |0.367879       |0.692201       |171.82818      |35.13466       |\n",
      "|----|---------------|---------------|---------------|---------------|\n",
      "|3   |0.692201       |0.500474       |46.85364       |22.05040       |\n",
      "|----|---------------|---------------|---------------|---------------|\n",
      "|4   |0.500474       |0.606244       |38.30915       |11.75537       |\n",
      "|----|---------------|---------------|---------------|---------------|\n",
      "|5   |0.606244       |0.545396       |17.44679       |6.89424        |\n",
      "|----|---------------|---------------|---------------|---------------|\n",
      "|6   |0.545396       |0.579612       |11.15662       |3.83457        |\n",
      "|----|---------------|---------------|---------------|---------------|\n",
      "|7   |0.579612       |0.560115       |5.90335        |2.19857        |\n",
      "|----|---------------|---------------|---------------|---------------|\n",
      "|8   |0.560115       |0.571143       |3.48087        |1.23916        |\n",
      "|----|---------------|---------------|---------------|---------------|\n",
      "|9   |0.571143       |0.564879       |1.93080        |0.70526        |\n",
      "|----|---------------|---------------|---------------|---------------|\n",
      "|10  |0.564879       |0.568429       |1.10887        |0.39918        |\n",
      "|----|---------------|---------------|---------------|---------------|\n",
      "|11  |0.568429       |0.566415       |0.62442        |0.22665        |\n",
      "|----|---------------|---------------|---------------|---------------|\n",
      "|12  |0.566415       |0.567557       |0.35557        |0.12846        |\n",
      "|----|---------------|---------------|---------------|---------------|\n",
      "|13  |0.567557       |0.566909       |0.20120        |0.07288        |\n",
      "|----|---------------|---------------|---------------|---------------|\n",
      "|14  |0.566909       |0.567276       |0.11426        |0.04133        |\n",
      "|----|---------------|---------------|---------------|---------------|\n",
      "|15  |0.567276       |0.567068       |0.06475        |0.02344        |\n",
      "|----|---------------|---------------|---------------|---------------|\n",
      "|16  |0.567068       |0.567186       |0.03674        |0.01329        |\n",
      "|----|---------------|---------------|---------------|---------------|\n",
      "|17  |0.567186       |0.567119       |0.02083        |0.00754        |\n",
      "|----|---------------|---------------|---------------|---------------|\n",
      "|18  |0.567119       |0.567157       |0.01182        |0.00428        |\n",
      "|----|---------------|---------------|---------------|---------------|\n"
     ]
    },
    {
     "data": {
      "image/png": "[encoded data removed]",
      "text/plain": [
       "<matplotlib.figure.Figure at 0xae02470>"
      ]
     },
     "metadata": {},
     "output_type": "display_data"
    }
   ],
   "source": [
    "import math\n",
    "import numpy as np\n",
    "import matplotlib.pyplot as ptl\n",
    "%matplotlib inline\n",
    "\n",
    "def funcion1():\n",
    "    i=0\n",
    "    x=float(0)\n",
    "    print \"|%-4s|%-15s|%-15s|%-15s|\"%(\"----\",\"---------------\",\"---------------\",\"---------------\")\n",
    "    print \"|%-4s|%-15s|%-15s|%-15s|\"%(\"i\",\"Xi\",\"Xi+1\",\"Error Aprox\")\n",
    "    print \"|%-4s|%-15s|%-15s|%-15s|\"%(\"----\",\"---------------\",\"---------------\",\"---------------\")\n",
    "    while(i<=10):\n",
    "        aprox=((3+x**2)/2)\n",
    "        Ea=abs((aprox-x)/(aprox))*100\n",
    "        print \"|%-4d|%-15e|%-15e|%-15.3f|\"%(i,x,aprox,Ea)\n",
    "        print \"|%-4s|%-15s|%-15s|%-15s|\"%(\"----\",\"---------------\",\"---------------\",\"---------------\")\n",
    "        x=aprox\n",
    "        i+=1\n",
    "    x=np.arange(-10,10,0.1)\n",
    "    y=(x**2)-(2*x)+3\n",
    "    ptl.title(\"Funcion 1 (3+x^2)/2\")\n",
    "    ptl.plot(x,y)\n",
    "    ptl.grid(True)\n",
    "    ptl.show()\n",
    "    \n",
    "def funcion2():\n",
    "    i=0\n",
    "    x=float(0)\n",
    "    xV=0.56714329\n",
    "    print \"|%-4s|%-15s|%-15s|%-15s|%-15s|\"%(\"----\",\"---------------\",\"---------------\",\"---------------\",\"---------------\")\n",
    "    print \"|%-4s|%-15s|%-15s|%-17s|%-15s|\"%(\"i\",\"Xi\",\"Xi+1\",\"Error AproxṔor\",\"Error RelPor\")\n",
    "    print \"|%-4s|%-15s|%-15s|%-15s|%-15s|\"%(\"----\",\"---------------\",\"---------------\",\"---------------\",\"---------------\")\n",
    "    Et=1\n",
    "    Ea=0\n",
    "    aprox=0\n",
    "    while(Et>0.0049):\n",
    "        Et=abs(((xV)-(aprox))/(xV))*100\n",
    "        aprox=math.exp(-x)\n",
    "        print \"|%-4d|%-15f|%-15f|%-15.5f|%-15.5f|\"%(i,x,aprox,Ea,Et)\n",
    "        Ea=abs((aprox-x)/(aprox))*100\n",
    "        print \"|%-4s|%-15s|%-15s|%-15s|%-15s|\"%(\"----\",\"---------------\",\"---------------\",\"---------------\",\"---------------\")\n",
    "        x=aprox\n",
    "        i+=1\n",
    "    ptl.title(\"Funcion 2 (e^-x)-x\")    \n",
    "    x=np.arange(-2,2,0.1)\n",
    "    y=(np.exp(-x))-x\n",
    "    ptl.plot(x,y)\n",
    "    ptl.grid(True)\n",
    "    ptl.show()      \n",
    " \n",
    "print \"Funcion 1 (3+x^2)/2\"\n",
    "funcion1() \n",
    "print \"Funcion 2  e^–x – x\"\n",
    "funcion2()"
   ]
  },
  {
   "cell_type": "code",
   "execution_count": null,
   "metadata": {
    "collapsed": true
   },
   "outputs": [],
   "source": []
  }
 ],
 "metadata": {
  "kernelspec": {
   "display_name": "Python 2",
   "language": "python",
   "name": "python2"
  },
  "language_info": {
   "codemirror_mode": {
    "name": "ipython",
    "version": 2
   },
   "file_extension": ".py",
   "mimetype": "text/x-python",
   "name": "python",
   "nbconvert_exporter": "python",
   "pygments_lexer": "ipython2",
   "version": "2.7.10"
  }
 },
 "nbformat": 4,
 "nbformat_minor": 0
}
