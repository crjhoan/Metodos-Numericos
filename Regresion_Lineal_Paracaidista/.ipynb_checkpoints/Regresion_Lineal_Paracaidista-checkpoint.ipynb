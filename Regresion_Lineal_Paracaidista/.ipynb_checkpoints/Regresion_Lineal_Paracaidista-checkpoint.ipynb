{
 "cells": [
  {
   "cell_type": "code",
   "execution_count": 4,
   "metadata": {
    "collapsed": false
   },
   "outputs": [
    {
     "name": "stdout",
     "output_type": "stream",
     "text": [
      "|Tiempo |V medida       |Modelo 110 |modelo E17 |\n",
      "|-------|---------------|-----------|-----------|\n",
      "|1      |10.09          |8.953      |11.24      |\n",
      "|2      |18.84          |16.40      |18.57      |\n",
      "|3      |26.56          |22.60      |23.72      |\n",
      "|4      |33.47          |27.76      |27.55      |\n",
      "|5      |39.73          |32.06      |30.50      |\n",
      "|6      |45.44          |35.64      |32.85      |\n",
      "|7      |50.68          |38.61      |34.76      |\n",
      "|8      |55.52          |41.09      |36.35      |\n",
      "|9      |60.01          |43.15      |37.68      |\n",
      "|10     |64.20          |44.87      |38.82      |\n",
      "|11     |68.11          |46.30      |39.81      |\n",
      "|12     |71.79          |47.49      |40.67      |\n",
      "|13     |75.24          |48.47      |41.43      |\n",
      "|14     |78.51          |49.30      |42.11      |\n",
      "|15     |81.60          |49.98      |42.71      |\n"
     ]
    },
    {
     "data": {
      "image/png": "[encoded data removed]",
      "text/plain": [
       "<matplotlib.figure.Figure at 0xbb96080>"
      ]
     },
     "metadata": {},
     "output_type": "display_data"
    },
    {
     "data": {
      "image/png": "[encoded data removed]",
      "text/plain": [
       "<matplotlib.figure.Figure at 0xbf83588>"
      ]
     },
     "metadata": {},
     "output_type": "display_data"
    }
   ],
   "source": [
    "import math\n",
    "import numpy as np\n",
    "import matplotlib.pyplot as ptl\n",
    "%matplotlib inline\n",
    "\n",
    "print \"|%-7s|%-15s|%-11s|%-11s|\"%(\"Tiempo\",\"V medida\",\"Modelo 110\",\"modelo E17\")\n",
    "print \"|%-7s|%-15s|%-11s|%-11s|\"%(\"-------\",\"---------------\",\"-----------\",\"-----------\")\n",
    "global y1\n",
    "global y2\n",
    "def v():\n",
    "    v1=[]\n",
    "    v2=[]\n",
    "    g=9.8\n",
    "    m=68.1\n",
    "    c=12.5\n",
    "    t=1\n",
    "    n=15\n",
    "    vi=float(0)\n",
    "    vj=float(0)\n",
    "    ma=0.0\n",
    "    b=2\n",
    "\n",
    "\n",
    "    while(t<=n):\n",
    "        vi=((g*m)/c)*(1-math.exp((-c/m)*t))\n",
    "        v1.append(vi)\n",
    "        vj=((g*m)/c)*((t)/(3.75+t))\n",
    "        v2.append(vj)\n",
    "        ma+=(vi+vj)/b\n",
    "        print \"|%-7s|%-15.5s|%-11.5s|%-11.5s|\"%(t,ma,vi,vj)\n",
    "        t+=1\n",
    "        b+=2\n",
    "    met1(v1)\n",
    "    met2(v2)\n",
    "    \n",
    "def met1(v1):\n",
    "    global y1\n",
    "    suma1=0.0\n",
    "    suma2=0.0\n",
    "    suma3=0.0\n",
    "    suma4=0.0\n",
    "    i=0\n",
    "    n=15\n",
    "    while(i<n):\n",
    "        suma1+=((i+1)*(v1[i]))\n",
    "        suma2+=(i+1)\n",
    "        suma3+=v1[i]\n",
    "        suma4+=(i+1)**2\n",
    "        i+=1\n",
    "    \n",
    "    ter1=n*suma1\n",
    "    ter2=suma2*suma3\n",
    "    ter3=n*suma4\n",
    "    ter4=(suma2)**2\n",
    "\n",
    "    a1=((ter1)-(ter2))/((ter3)-(ter4))\n",
    "    a0=(suma3/n)-(a1*(suma2/n))\n",
    "    ptl.title(\"Funcion 1\")    \n",
    "    x=np.arange(-1,15,0.1)\n",
    "    y1=a0+(a1*x)\n",
    "    ptl.plot(v1,'ro')\n",
    "    ptl.plot(x,y1,'r-')\n",
    "    ptl.grid(True)\n",
    "    ptl.show()\n",
    "def met2(v2):\n",
    "    global y2\n",
    "    n=15\n",
    "    suma1=0.0\n",
    "    suma2=0.0\n",
    "    suma3=0.0\n",
    "    suma4=0.0\n",
    "    i=0\n",
    "    while(i<n):\n",
    "        suma1+=((i+1)*(v2[i]))\n",
    "        suma2+=(i+1)\n",
    "        suma3+=v2[i]\n",
    "        suma4+=(i+1)**2\n",
    "        i+=1\n",
    "    \n",
    "    ter1=n*suma1\n",
    "    ter2=suma2*suma3\n",
    "    ter3=n*suma4\n",
    "    ter4=(suma2)**2\n",
    "\n",
    "    a1=((ter1)-(ter2))/((ter3)-(ter4))\n",
    "    a0=(suma3/n)-(a1*(suma2/n))\n",
    "    ##print \"parte 2\"\n",
    "    ##print a1\n",
    "    ##print a0\n",
    "    ptl.title(\"Funcion 2\")    \n",
    "    x=np.arange(-1,15,0.1)\n",
    "    y2=a0+(a1*x)\n",
    "    ptl.plot(v2,'bo')\n",
    "    ptl.plot(x,y2,'b-')\n",
    "    ptl.grid(True)\n",
    "    ptl.show()\n",
    "def met3(y1,y2):\n",
    "    x=np.arange(-1,15,0.1)\n",
    "    ptl.title(\"Funcion\") \n",
    "    ptl.plot(y2,'bo')\n",
    "    ptl.plot(x,y1,'ro')\n",
    "    ptl.grid(True)\n",
    "    ptl.show()\n",
    "v()"
   ]
  },
  {
   "cell_type": "code",
   "execution_count": null,
   "metadata": {
    "collapsed": true
   },
   "outputs": [],
   "source": []
  }
 ],
 "metadata": {
  "kernelspec": {
   "display_name": "Python 2",
   "language": "python",
   "name": "python2"
  },
  "language_info": {
   "codemirror_mode": {
    "name": "ipython",
    "version": 2
   },
   "file_extension": ".py",
   "mimetype": "text/x-python",
   "name": "python",
   "nbconvert_exporter": "python",
   "pygments_lexer": "ipython2",
   "version": "2.7.10"
  }
 },
 "nbformat": 4,
 "nbformat_minor": 0
}
