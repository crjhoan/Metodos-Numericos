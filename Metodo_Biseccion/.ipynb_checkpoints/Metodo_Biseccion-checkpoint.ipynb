{
 "cells": [
  {
   "cell_type": "code",
   "execution_count": 9,
   "metadata": {
    "collapsed": false
   },
   "outputs": [
    {
     "name": "stdout",
     "output_type": "stream",
     "text": [
      "+---  +----------- +----------- +-----------+----------- +-----------+\n",
      "| N°  | xl         | xu         | xr        |ea(%)       |et(%)      |\n",
      "+---- +----------  +----------- +-----------+----------- +-----------+\n",
      "|1    |0.0000      |1.0000      |0.000000   |100.0000    |100.0000   |\n",
      "|2    |0.0000      |1.0000      |0.500000   |100.0000    |11.8389    |\n",
      "|3    |0.5000      |1.0000      |0.750000   |33.3333     |32.2417    |\n",
      "|4    |0.5000      |0.7500      |0.625000   |20.0000     |10.2014    |\n",
      "|5    |0.5000      |0.6250      |0.562500   |11.1111     |0.8187     |\n",
      "|6    |0.5625      |0.6250      |0.593750   |5.2632      |4.6914     |\n",
      "|7    |0.5625      |0.5938      |0.578125   |2.7027      |1.9363     |\n",
      "|8    |0.5625      |0.5781      |0.570313   |1.3699      |0.5588     |\n",
      "|9    |0.5625      |0.5703      |0.566406   |0.6897      |0.1300     |\n",
      "|10   |0.5664      |0.5703      |0.568359   |0.3436      |0.2144     |\n",
      "|11   |0.5664      |0.5684      |0.567383   |0.1721      |0.0422     |\n",
      "|12   |0.5664      |0.5674      |0.566895   |0.0861      |0.0439     |\n",
      "|13   |0.5669      |0.5674      |0.567139   |0.0430      |0.0008     |\n"
     ]
    }
   ],
   "source": [
    "import math\n",
    "import math\n",
    "import numpy as np\n",
    "import matplotlib.pyplot as ptl\n",
    "\n",
    "def f(x):\n",
    "    return math.exp(-x)-x\n",
    "\n",
    "def Biseccion():\n",
    "    xl=0\n",
    "    xu=1\n",
    "    a=0;\n",
    "    xra=0;\n",
    "    xr=0;\n",
    "    real=0.56714329\n",
    "    et=1\n",
    "    etg=[]\n",
    "    eag=[]\n",
    "    print \"+%-4s +%-11s +%-11s +%-11s+%-11s +%-11s+\"%('---','-----------','-----------','-----------','-----------','-----------')\n",
    "    print \"|%-4s |%-11s |%-11s |%-11s|%-11s |%-11s|\"%(' N° ',' xl ',' xu',' xr','ea(%)','et(%)')\n",
    "    print \"+%-4s +%-11s +%-11s +%-11s+%-11s +%-11s+\"%('----','----------','-----------','-----------','-----------','-----------')\n",
    "    while(et>0.0049):\n",
    "        a+=1\n",
    "        xr=float((xl+xu)/2)\n",
    "        if(xr==0):\n",
    "            xr=0.000000000001\n",
    "            ea=abs(((xr-xra)/(xr))*100)\n",
    "        elif(xr!=0):    \n",
    "            ea=abs(((xr-xra)/(xr))*100)\n",
    "        eag.append(ea)    \n",
    "        et=abs(((real-xr)/(real))*100)\n",
    "        etg.append(et)\n",
    "        print \"|%-4d |%-11.4f |%-11.4f |%-11f|%-11.4f |%-11.4f|\"%(a,xl,xu,xr,ea,et)\n",
    "        if((f(xl)*f(xr))<0):\n",
    "            xu=xr\n",
    "        elif((f(xl)*f(xr))>0):\n",
    "            xl=xr\n",
    "        elif((f(xl)*f(xr))==0):\n",
    "            xr=xr\n",
    "        xra=xr\n",
    "    graf(eag,etg)\n",
    "\n",
    "def graf(eag,etg):\n",
    "    ptl.subplot(1,2,1)\n",
    "    ptl.grid()\n",
    "    ptl.title(\"Grafica Et(%) vs iteracion\")\n",
    "    ptl.plot(etg,'-o')\n",
    "    ptl.subplot(1,2,2)\n",
    "    ptl.grid()\n",
    "    ptl.title(\"Grafica Ea(%) vs iteracion\")\n",
    "    ptl.plot(eag,'-o')\n",
    "    ptl.show()\n",
    "            \n",
    "Biseccion()"
   ]
  },
  {
   "cell_type": "code",
   "execution_count": null,
   "metadata": {
    "collapsed": true
   },
   "outputs": [],
   "source": []
  }
 ],
 "metadata": {
  "kernelspec": {
   "display_name": "Python 2",
   "language": "python",
   "name": "python2"
  },
  "language_info": {
   "codemirror_mode": {
    "name": "ipython",
    "version": 2
   },
   "file_extension": ".py",
   "mimetype": "text/x-python",
   "name": "python",
   "nbconvert_exporter": "python",
   "pygments_lexer": "ipython2",
   "version": "2.7.10"
  }
 },
 "nbformat": 4,
 "nbformat_minor": 0
}
