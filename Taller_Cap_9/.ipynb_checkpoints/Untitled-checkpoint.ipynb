{
 "cells": [
  {
   "cell_type": "code",
   "execution_count": 35,
   "metadata": {
    "collapsed": false,
    "scrolled": true
   },
   "outputs": [],
   "source": [
    "import math\n",
    "import numpy as np\n",
    "import matplotlib.pyplot as ptl\n",
    "\n",
    "ptl.title(\"Ejercicio 9.4\")    \n",
    "x=np.arange(2,16,0.1)\n",
    "y=(2*x)-6\n",
    "z=(-6*x)+34\n",
    "ptl.plot(x,y,'-g',label=\"Y=2X-6\")\n",
    "ptl.plot(x,z,'-y',label=\"Z=-6X+34\")\n",
    "ptl.legend(loc=\"upper left\")\n",
    "ptl.grid(True)\n",
    "ptl.show()"
   ]
  },
  {
   "cell_type": "code",
   "execution_count": null,
   "metadata": {
    "collapsed": true
   },
   "outputs": [],
   "source": []
  }
 ],
 "metadata": {
  "kernelspec": {
   "display_name": "Python 2",
   "language": "python",
   "name": "python2"
  },
  "language_info": {
   "codemirror_mode": {
    "name": "ipython",
    "version": 2
   },
   "file_extension": ".py",
   "mimetype": "text/x-python",
   "name": "python",
   "nbconvert_exporter": "python",
   "pygments_lexer": "ipython2",
   "version": "2.7.10"
  }
 },
 "nbformat": 4,
 "nbformat_minor": 0
}
