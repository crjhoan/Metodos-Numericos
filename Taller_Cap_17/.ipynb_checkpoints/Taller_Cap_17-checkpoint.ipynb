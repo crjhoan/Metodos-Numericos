{
 "cells": [
  {
   "cell_type": "markdown",
   "metadata": {},
   "source": [
    "### Ejercicio 17.1\n",
    "Determinar:  \n",
    "\n",
    "a) *La media*  \n",
    "b) *La desviacion  estandar*  \n",
    "c) *La varianza*  \n",
    "d)  *El coeficiente de variacion*  \n",
    "e)  *El intervalo de confianza del 95% para la media*"
   ]
  },
  {
   "cell_type": "code",
   "execution_count": 1,
   "metadata": {
    "collapsed": false
   },
   "outputs": [
    {
     "name": "stdout",
     "output_type": "stream",
     "text": [
      "a) La media es 9.652\n",
      "b) La desviacion estantar es: 0.703041013503\n",
      "c) La varianza es: 11.8624\n",
      "d) El coeficiente de variacion es: 7.28388948925%\n"
     ]
    }
   ],
   "source": [
    "import math\n",
    "x=[8.8,9.5,9.8,9.4,10.0,9.4,10.1,9.2,11.3,9.4,10.0,10.4,7.9,10.4,9.8,9.8,9.5,8.9,8.8,10.6,10.1,9.5,9.6,10.2,8.9]\n",
    "n=25\n",
    "j=0;\n",
    "suma=0.0;\n",
    "while(j<n):\n",
    "    suma+=x[j]\n",
    "    j+=1\n",
    "    \n",
    "media=suma/n \n",
    "#print \"La media es \"+str(promediarLista(x))\n",
    "\n",
    "\n",
    "st=0\n",
    "i=0\n",
    "while(i<n):\n",
    "    resta=((x[i]-media)**2)\n",
    "    st+=resta\n",
    "    i+=1\n",
    "dest=math.sqrt((st)/(n-1))  \n",
    "print \"a) La media es \"+str(media)\n",
    "print \"b) La desviacion estantar es: \"+ str(dest)\n",
    "print \"c) La varianza es: \"+str(st)\n",
    "print \"d) El coeficiente de variacion es: \"+str((dest/media)*100)+\"%\""
   ]
  },
  {
   "cell_type": "markdown",
   "metadata": {
    "collapsed": true
   },
   "source": [
    "###Ejercicio 17.2"
   ]
  },
  {
   "cell_type": "code",
   "execution_count": 18,
   "metadata": {
    "collapsed": false
   },
   "outputs": [
    {
     "data": {
      "image/png": "[encoded data removed]",
      "text/plain": [
       "<matplotlib.figure.Figure at 0x58e38b0>"
      ]
     },
     "metadata": {},
     "output_type": "display_data"
    }
   ],
   "source": [
    "import random\n",
    "from matplotlib.pylab import hist, show\n",
    "%matplotlib inline\n",
    "x=[8.8,9.5,9.8,9.4,10.0,9.4,10.1,9.2,11.3,9.4,10.0,10.4,7.9,10.4,9.8,9.8,9.5,8.9,8.8,10.6,10.1,9.5,9.6,10.2,8.9]\n",
    "\n",
    "hist(x,25, (7.5,11.5))\n",
    "show()"
   ]
  },
  {
   "cell_type": "markdown",
   "metadata": {},
   "source": [
    "###Ejercicio 17.3 \n",
    "Determinar:  \n",
    "\n",
    "a) La media  \n",
    "b) La desviacion estandar  \n",
    "c) La varianza  \n",
    "d) El coeficiente de variacion  \n",
    "e) El intervalo de confianza del 90% para la media  \n",
    "f) Construya un histograma. Use un rango de 26 a 32 con incrementos de 0.5  \n",
    "g) Si se suponde que la distribucion normal y que la estimacion de la desviacion estandar es valida, calcule el rango(es decir, los valores inferior y superior) que agrupa al 68% de los datos. Determine si esta es una estimacion valida para los datos del problema"
   ]
  },
  {
   "cell_type": "code",
   "execution_count": 50,
   "metadata": {
    "collapsed": false
   },
   "outputs": [
    {
     "name": "stdout",
     "output_type": "stream",
     "text": [
      "La media es 28.0035714286\n",
      "La desviacion estantar es: 1.09729706395\n",
      "La varianza es: 32.5096428571\n",
      "El coeficiente de variacion es: 3.9184182873%\n"
     ]
    },
    {
     "data": {
      "image/png": "[encoded data removed]",
      "text/plain": [
       "<matplotlib.figure.Figure at 0x5746270>"
      ]
     },
     "metadata": {},
     "output_type": "display_data"
    }
   ],
   "source": [
    "import random\n",
    "from matplotlib.pylab import hist, show\n",
    "%matplotlib inline\n",
    "x=[28.65,26.55,26.65,27.65,27.35,28.35,26.85,28.65,29.65,27.85,27.05,28.25,28.35,26.75,27.65,28.45,28.65,28.45,31.65,26.35,27.75,29.25,27.65,28.65,27.65,28.55,27.55,27.25]\n",
    "n=len(x)\n",
    "j=0;\n",
    "suma=0.0;\n",
    "while(j<n):\n",
    "    suma+=x[j]\n",
    "    j+=1\n",
    "    \n",
    "media=suma/n \n",
    "st=0\n",
    "i=0\n",
    "while(i<n):\n",
    "    resta=((x[i]-media)**2)\n",
    "    st+=resta\n",
    "    i+=1\n",
    "dest=math.sqrt((st)/(n-1))  \n",
    "print \"La media es \"+str(media)\n",
    "print \"La desviacion estantar es: \"+ str(dest)\n",
    "print \"La varianza es: \"+str(st)\n",
    "print \"El coeficiente de variacion es: \"+str((dest/media)*100)+\"%\"\n",
    "hist(x,28, (26,32,))\n",
    "show()"
   ]
  },
  {
   "cell_type": "markdown",
   "metadata": {
    "collapsed": true
   },
   "source": [
    "###Ejericico 17.4\n",
    "Utilice la regresion por minimos cuadrados para ajustar una linea reacta a   \n",
    "X= 0 2  4 6 9 11 12  15 17 19  \n",
    "Y= 5  6  7 6 9  8    7   10 12 12  \n",
    "Ademas de la pendiente y la interseccion, calcule el error estandar de la estimacion y el coeficiente de correlacion.Haga una grafica de los datos y la linea de la regresion.Despues repita el problema pero ahora efectue la regresion de x vs y, es decir intercambie las variables"
   ]
  },
  {
   "cell_type": "code",
   "execution_count": 12,
   "metadata": {
    "collapsed": false
   },
   "outputs": [
    {
     "name": "stdout",
     "output_type": "stream",
     "text": [
      "911\n",
      "95\n",
      "82\n",
      "1277\n"
     ]
    }
   ],
   "source": [
    "import math\n",
    "import numpy as np\n",
    "import matplotlib.pyplot as ptl\n",
    "%matplotlib inline\n",
    "x=[0,2,4,6,9,11,12,15,17,19]\n",
    "y=[5,6,7,6,9,8,7,10,12,12]\n",
    "#ptl.plot(x,y,'red',label='X1')\n",
    "#ptl.title(\"Ejercicio 17.4\", fontsize = 20)\n",
    "#ptl.legend(loc=\"upper left\")\n",
    "#ptl.grid(True)\n",
    "#ptl.show()\n",
    "n=10\n",
    "i=0\n",
    "sum1=0\n",
    "sum2=0\n",
    "sum3=0\n",
    "sum4=0\n",
    "while(i<n):\n",
    "    sum1+=(x[i])*(y[i])\n",
    "    sum2+=x[i]\n",
    "    sum3+=y[i]\n",
    "    sum4+=(x[i])**2\n",
    "    i+=1\n",
    "print sum1\n",
    "print sum2\n",
    "print sum3\n",
    "print sum4\n",
    "a1=(n*sum1-sum2*sum3)/((n*sum4)-(sum2)**2)\n",
    "a0=(sum3/n)-(a1*(sum2/n))\n",
    "#print \"Valor a1= \"+str(a1)+\"Valor a0= \"+str(a0)"
   ]
  },
  {
   "cell_type": "code",
   "execution_count": null,
   "metadata": {
    "collapsed": true
   },
   "outputs": [],
   "source": []
  }
 ],
 "metadata": {
  "kernelspec": {
   "display_name": "Python 2",
   "language": "python",
   "name": "python2"
  },
  "language_info": {
   "codemirror_mode": {
    "name": "ipython",
    "version": 2
   },
   "file_extension": ".py",
   "mimetype": "text/x-python",
   "name": "python",
   "nbconvert_exporter": "python",
   "pygments_lexer": "ipython2",
   "version": "2.7.10"
  }
 },
 "nbformat": 4,
 "nbformat_minor": 0
}
